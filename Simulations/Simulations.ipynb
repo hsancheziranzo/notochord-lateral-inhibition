{
 "cells": [
  {
   "cell_type": "code",
   "execution_count": null,
   "metadata": {},
   "outputs": [],
   "source": [
    "import numpy as np\n",
    "import pandas as pd\n",
    "from pandas import DataFrame, Series\n",
    "import seaborn as sns\n",
    "import matplotlib.pyplot as plt\n",
    "import matplotlib"
   ]
  },
  {
   "cell_type": "code",
   "execution_count": null,
   "metadata": {},
   "outputs": [],
   "source": [
    "#Here I generate the contacts between cells\n",
    "contacts = np.zeros((100,100))\n",
    "for i in range(contacts.shape[0]):\n",
    "    for j in range(contacts.shape[1]):\n",
    "        if i == (j + 1):\n",
    "            contacts[i,j] = 0.5\n",
    "        elif (i+1) == j:\n",
    "            contacts[i,j] = 0.5\n",
    "             \n",
    "\n",
    "plt.figure(figsize=(6,6))\n",
    "sns.heatmap(contacts[0:20,0:20]) \n",
    "plt.savefig('output/contact_matrix.pdf')"
   ]
  },
  {
   "cell_type": "code",
   "execution_count": null,
   "metadata": {},
   "outputs": [],
   "source": [
    "#Here I generate cell identities and their representation\n",
    "ws = np.zeros((8,100))\n",
    "for i in range(100):\n",
    "    ws[:,i] = i\n",
    "plt.figure(figsize=(15,4))\n",
    "sns.heatmap(ws) \n"
   ]
  },
  {
   "cell_type": "code",
   "execution_count": null,
   "metadata": {},
   "outputs": [],
   "source": [
    "#Representation of only the central 20 cells as cells 'num_pix' width and 100 pixel height\n",
    "num_pix = 15\n",
    "ws_small = np.zeros((8*num_pix,20*num_pix+1))\n",
    "for i in range(20):\n",
    "    ws_small[1:ws_small.shape[0]-1,i*num_pix+1:(i+1)*num_pix] = i+1\n",
    "plt.figure(figsize=(15,4))\n",
    "sns.heatmap(ws_small)"
   ]
  },
  {
   "cell_type": "markdown",
   "metadata": {},
   "source": [
    "## Collier lateral inhibition model"
   ]
  },
  {
   "cell_type": "code",
   "execution_count": null,
   "metadata": {},
   "outputs": [],
   "source": [
    "np.random.seed(1)\n",
    "\n",
    "t_max = 20\n",
    "\n",
    "# We initialize the system using uniformly distributed values between 0 and 0.1\n",
    "A = 0.1*(np.random.uniform(size = contacts.shape[0])) # A represents jag1a levels\n",
    "R = 0.1*(np.random.uniform(size = contacts.shape[0])) # A represents repressor levels \n",
    "\n",
    "vmaxa = 1\n",
    "vmaxr = 1\n",
    "kma = 0.1\n",
    "kmr = 0.1\n",
    "h = 2\n",
    "kda = 1\n",
    "kdr = 1\n",
    "\n",
    "stepsize = 0.01 # Stepsize for the integration based on the Euler method\n",
    "\n",
    "As = np.copy(A)\n",
    "Rs = np.copy(R)\n",
    "\n",
    "plt.figure(1, figsize=(15,30))\n",
    "for t in range(0,t_max):\n",
    "      \n",
    "    for i in range(0,100):\n",
    "        An = A.dot(contacts) # small n refers to 'neighbours'\n",
    "        dAdt = vmaxa*((kma**h)/(kma**h+R**h)) - kda*A\n",
    "        dRdt = vmaxr*((An**h)/(kmr**h+An**h)) - kdr*R \n",
    "        A += stepsize*dAdt\n",
    "        R += stepsize*dRdt\n",
    "        As = np.vstack((As, A))\n",
    "        Rs = np.vstack((Rs, R))\n",
    "    \n",
    "    img_arr = np.zeros((8,contacts.shape[0],3))\n",
    "    \n",
    "    for cell_ID in range(contacts.shape[0]):\n",
    "        img_arr[:,:,0] = np.where(ws == cell_ID, A[cell_ID], img_arr[:,:,0]) \n",
    "        img_arr[:,:,1] = np.where(ws == cell_ID, R[cell_ID], img_arr[:,:,1]) \n",
    "        img_arr[:,:,2] = np.where(ws == cell_ID, A[cell_ID], img_arr[:,:,2]) \n",
    "    plt.subplot(50,2,t+1)\n",
    "    plt.imshow(img_arr, vmin = 0, vmax = 1)\n",
    "  \n",
    "# In the plot desplayed below, we can see that the boundary are far enough from the central region to exclude any potential boundary-condition effect"
   ]
  },
  {
   "cell_type": "code",
   "execution_count": null,
   "metadata": {
    "scrolled": true
   },
   "outputs": [],
   "source": [
    "# Plot for t = 7\n",
    "t = 7\n",
    "\n",
    "img_arr = np.zeros((8*num_pix,20*num_pix+1,3))   \n",
    "for cell_ID in range(40,60):\n",
    "    img_arr[:,:,0] = np.where(ws_small == cell_ID-39, As[t*100, cell_ID], img_arr[:,:,0]) \n",
    "    img_arr[:,:,1] = np.where(ws_small == cell_ID-39, Rs[t*100, cell_ID], img_arr[:,:,1]) \n",
    "    img_arr[:,:,2] = np.where(ws_small == cell_ID-39, As[t*100, cell_ID], img_arr[:,:,2])\n",
    "    \n",
    "plt.figure(1, figsize=(10,10))\n",
    "plt.imshow(img_arr)\n",
    "plt.axis('off')\n",
    "plt.savefig('output/01.1.Lat_inh_int.pdf', bbox_inches='tight', pad_inches = 0, dpi = 100)\n"
   ]
  },
  {
   "cell_type": "code",
   "execution_count": null,
   "metadata": {},
   "outputs": [],
   "source": [
    "img_arr = np.zeros((8*num_pix,20*num_pix+1,3))   \n",
    "for cell_ID in range(40,60):\n",
    "    img_arr[:,:,0] = np.where(ws_small == cell_ID-39, As[t*100, cell_ID], img_arr[:,:,0]) \n",
    "    #img_arr[:,:,1] = np.where(ws_small == cell_ID-39, Rs[t*100, cell_ID], img_arr[:,:,1]) \n",
    "    img_arr[:,:,2] = np.where(ws_small == cell_ID-39, As[t*100, cell_ID], img_arr[:,:,2])   \n",
    "\n",
    "plt.figure(1, figsize=(10,10))\n",
    "plt.imshow(img_arr)\n",
    "plt.axis('off')\n",
    "plt.savefig('output/01.2.Lat_inh_int.pdf', bbox_inches='tight', pad_inches = 0, dpi = 100)"
   ]
  },
  {
   "cell_type": "code",
   "execution_count": null,
   "metadata": {},
   "outputs": [],
   "source": [
    "img_arr = np.zeros((8*num_pix,20*num_pix+1,3))   \n",
    "for cell_ID in range(40,60):\n",
    "    #img_arr[:,:,0] = np.where(ws_small == cell_ID-39, As[t*100, cell_ID], img_arr[:,:,0]) \n",
    "    img_arr[:,:,1] = np.where(ws_small == cell_ID-39, Rs[t*100, cell_ID], img_arr[:,:,1]) \n",
    "    #img_arr[:,:,2] = np.where(ws_small == cell_ID-39, As[t*100, cell_ID], img_arr[:,:,2])   \n",
    "\n",
    "plt.figure(1, figsize=(10,10))\n",
    "plt.imshow(img_arr)\n",
    "plt.axis('off')\n",
    "plt.savefig('output/01.3.Lat_inh_int.pdf', bbox_inches='tight', pad_inches = 0, dpi = 100)"
   ]
  },
  {
   "cell_type": "code",
   "execution_count": null,
   "metadata": {},
   "outputs": [],
   "source": [
    "#Display one point per cell\n",
    "plt.figure(1, figsize=(8,3.2))\n",
    "plt.plot(np.arange(0,20), As[t*100, 40:60], color = '#FF00FF')\n",
    "plt.plot(np.arange(0,20), Rs[t*100, 40:60], color = '#00AA00')\n",
    "plt.ylim(top=1)\n",
    "plt.ylim(bottom=0)\n",
    "plt.xticks(np.arange(20), np.arange(20)+1)\n",
    "plt.xlabel('Cell')\n",
    "plt.ylabel('Expression levels') \n",
    "plt.savefig('output/01.4a.Lat_inh_int.pdf', bbox_inches='tight', pad_inches = 0, dpi = 100)"
   ]
  },
  {
   "cell_type": "code",
   "execution_count": null,
   "metadata": {},
   "outputs": [],
   "source": [
    "#Display taking into account cell shapes\n",
    "plt.figure(1, figsize=(8,3.2))\n",
    "plt.plot(np.arange(0,100), np.repeat(As[t*100, 40:60], 5), color = '#FF00FF')\n",
    "plt.plot(np.arange(0,100), np.repeat(Rs[t*100, 40:60], 5), color = '#00AA00')\n",
    "plt.ylim(top=1)\n",
    "plt.ylim(bottom=0)\n",
    "plt.xticks((np.arange(20)+0.5)*5, np.arange(20)+1)\n",
    "plt.xlabel('Cell')\n",
    "plt.ylabel('Expression levels') \n",
    "plt.rcParams.update({'font.size' : 16, 'font.sans-serif' : 'Arial'})\n",
    "plt.savefig('output/01.4b.Lat_inh_int.pdf', bbox_inches='tight', pad_inches = 0, dpi = 100)"
   ]
  },
  {
   "cell_type": "code",
   "execution_count": null,
   "metadata": {},
   "outputs": [],
   "source": [
    "# Plot for t = 14\n",
    "t = 14\n",
    "\n",
    "img_arr = np.zeros((8*num_pix,20*num_pix+1,3))   \n",
    "for cell_ID in range(40,60):\n",
    "    img_arr[:,:,0] = np.where(ws_small == cell_ID-39, As[t*100, cell_ID], img_arr[:,:,0]) \n",
    "    img_arr[:,:,1] = np.where(ws_small == cell_ID-39, Rs[t*100, cell_ID], img_arr[:,:,1]) \n",
    "    img_arr[:,:,2] = np.where(ws_small == cell_ID-39, As[t*100, cell_ID], img_arr[:,:,2])\n",
    "    \n",
    "plt.figure(1, figsize=(10,10))\n",
    "plt.imshow(img_arr)\n",
    "plt.axis('off')\n",
    "plt.savefig('output/01.5.Lat_inh_final.pdf', bbox_inches='tight', pad_inches = 0, dpi = 100)\n"
   ]
  },
  {
   "cell_type": "code",
   "execution_count": null,
   "metadata": {},
   "outputs": [],
   "source": [
    "img_arr = np.zeros((8*num_pix,20*num_pix+1,3))   \n",
    "for cell_ID in range(40,60):\n",
    "    img_arr[:,:,0] = np.where(ws_small == cell_ID-39, As[t*100, cell_ID], img_arr[:,:,0]) \n",
    "    #img_arr[:,:,1] = np.where(ws_small == cell_ID-39, Rs[t*100, cell_ID], img_arr[:,:,1]) \n",
    "    img_arr[:,:,2] = np.where(ws_small == cell_ID-39, As[t*100, cell_ID], img_arr[:,:,2])   \n",
    "\n",
    "plt.figure(1, figsize=(10,10))\n",
    "plt.imshow(img_arr)\n",
    "plt.axis('off')\n",
    "plt.savefig('output/01.6.Lat_inh_final.pdf', bbox_inches='tight', pad_inches = 0, dpi = 100)"
   ]
  },
  {
   "cell_type": "code",
   "execution_count": null,
   "metadata": {},
   "outputs": [],
   "source": [
    "img_arr = np.zeros((8*num_pix,20*num_pix+1,3))   \n",
    "for cell_ID in range(40,60):\n",
    "    #img_arr[:,:,0] = np.where(ws_small == cell_ID-39, As[t*100, cell_ID], img_arr[:,:,0]) \n",
    "    img_arr[:,:,1] = np.where(ws_small == cell_ID-39, Rs[t*100, cell_ID], img_arr[:,:,1]) \n",
    "    #img_arr[:,:,2] = np.where(ws_small == cell_ID-39, As[t*100, cell_ID], img_arr[:,:,2])   \n",
    "\n",
    "plt.figure(1, figsize=(10,10))\n",
    "plt.imshow(img_arr)\n",
    "plt.axis('off')\n",
    "plt.savefig('output/01.7.Lat_inh_final.pdf', bbox_inches='tight', pad_inches = 0, dpi = 100)"
   ]
  },
  {
   "cell_type": "code",
   "execution_count": null,
   "metadata": {},
   "outputs": [],
   "source": [
    "#Display one point per cell\n",
    "plt.figure(1, figsize=(8,3.2))\n",
    "plt.plot(np.arange(0,20), As[t*100, 40:60], color = '#FF00FF')\n",
    "plt.plot(np.arange(0,20), Rs[t*100, 40:60], color = '#00AA00')\n",
    "plt.ylim(top=1)\n",
    "plt.ylim(bottom=0)\n",
    "plt.xticks(np.arange(20), np.arange(20)+1)\n",
    "plt.xlabel('Cell')\n",
    "plt.ylabel('Expression levels') \n",
    "plt.savefig('output/01.8a.Lat_inh_final.pdf', bbox_inches='tight', pad_inches = 0, dpi = 100)"
   ]
  },
  {
   "cell_type": "code",
   "execution_count": null,
   "metadata": {},
   "outputs": [],
   "source": [
    "#Display taking into account cell shapes\n",
    "plt.figure(1, figsize=(8,3.2))\n",
    "plt.plot(np.arange(0,100), np.repeat(As[t*100, 40:60], 5), color = '#FF00FF')\n",
    "plt.plot(np.arange(0,100), np.repeat(Rs[t*100, 40:60], 5), color = '#00AA00')\n",
    "plt.ylim(top=1)\n",
    "plt.ylim(bottom=0)\n",
    "plt.xticks((np.arange(20)+0.5)*5, np.arange(20)+1)\n",
    "plt.xlabel('Cell')\n",
    "plt.ylabel('Expression levels') \n",
    "plt.rcParams.update({'font.size' : 16, 'font.sans-serif' : 'Arial'})\n",
    "plt.savefig('output/01.8b.Lat_inh_int.pdf', bbox_inches='tight', pad_inches = 0, dpi = 100)"
   ]
  },
  {
   "cell_type": "code",
   "execution_count": null,
   "metadata": {},
   "outputs": [],
   "source": [
    "A_values_for_df = np.array(())\n",
    "R_values_for_df = np.array(())\n",
    "cell_num = np.array((), dtype = 'int16')\n",
    "time = np.array(())\n",
    "\n",
    "for i in range(40,60):\n",
    "    A_values_for_df = np.append(A_values_for_df,As[:,i])\n",
    "    R_values_for_df = np.append(R_values_for_df,Rs[:,i])\n",
    "    cell_num = np.append(cell_num, np.array([i]*As.shape[0])-40)\n",
    "    time = np.append(time, np.arange(As.shape[0]))\n",
    "    \n",
    "df_to_plot = DataFrame({'Ligand': A_values_for_df, 'Repressor': R_values_for_df, 'Cell': cell_num, 'Time': time})  \n"
   ]
  },
  {
   "cell_type": "code",
   "execution_count": null,
   "metadata": {},
   "outputs": [],
   "source": [
    "sns.lineplot(x=\"Time\", y=\"Ligand\", hue=\"Cell\", data=df_to_plot, legend = False)#, palette = sns.color_palette(n_colors = 20))\n",
    "plt.rcParams.update({'font.size' : 16, 'font.sans-serif' : 'Arial'})\n",
    "plt.xlabel('Time (a. u.)')\n",
    "plt.ylabel('Ligand concentration (a. u.)')\n",
    "plt.tight_layout()\n",
    "plt.savefig('output/01.9.Lat_inh_ligand.pdf', dpi = 100) "
   ]
  },
  {
   "cell_type": "code",
   "execution_count": null,
   "metadata": {},
   "outputs": [],
   "source": [
    "sns.lineplot(x=\"Time\", y=\"Repressor\", hue=\"Cell\", data=df_to_plot, legend = False)\n",
    "plt.rcParams.update({'font.size' : 16, 'font.sans-serif' : 'Arial'})\n",
    "plt.xlabel('Time (a. u.)')\n",
    "plt.ylabel('Repressor concentration (a. u.)')\n",
    "plt.tight_layout()\n",
    "plt.savefig('output/01.10.Lat_inh_repressor.pdf', dpi = 100) "
   ]
  },
  {
   "cell_type": "markdown",
   "metadata": {},
   "source": [
    "## Collier lateral induction"
   ]
  },
  {
   "cell_type": "code",
   "execution_count": null,
   "metadata": {},
   "outputs": [],
   "source": [
    "t_max = 20\n",
    "\n",
    "#A = np.ones((contacts.shape[0]))/10\n",
    "#A[40] = 0.3\n",
    "#R = np.ones((contacts.shape[0]))/10\n",
    "\n",
    "A = 0.2*(np.random.uniform(size = contacts.shape[0]))\n",
    "#A[40] = 0.3\n",
    "R = 0.2*(np.random.uniform(size = contacts.shape[0]))\n",
    "\n",
    "vmaxa = 1\n",
    "vmaxr = 1\n",
    "kma = 0.1\n",
    "kmr = 0.1\n",
    "h = 2\n",
    "kda = 1\n",
    "kdr = 1\n",
    "\n",
    "As = np.copy(A)\n",
    "Rs = np.copy(R)\n",
    "\n",
    "stepsize = 0.001\n",
    "\n",
    "plt.figure(1, figsize=(15,30))\n",
    "for t in range(0,t_max):\n",
    "      \n",
    "    for i in range(0,100): #This is the number of iterations between each shown image.\n",
    "        An = A.dot(contacts)\n",
    "        dAdt = vmaxa*((R**h)/(kma**h+R**h)) - kda*A\n",
    "        dRdt = vmaxr*((An**h)/(kmr**h+An**h)) - kdr*R\n",
    "        A += stepsize*dAdt\n",
    "        R += stepsize*dRdt\n",
    "        As = np.vstack((As, A))\n",
    "        Rs = np.vstack((Rs, R))\n",
    "    \n",
    "    img_arr = np.zeros((8,(contacts.shape[0]),3))\n",
    "    \n",
    "    for cell_ID in range(contacts.shape[0]):\n",
    "        img_arr[:,:,0] = np.where(ws == cell_ID, A[cell_ID], img_arr[:,:,0]) \n",
    "        img_arr[:,:,1] = np.where(ws == cell_ID, R[cell_ID], img_arr[:,:,1]) \n",
    "        img_arr[:,:,2] = np.where(ws == cell_ID, A[cell_ID], img_arr[:,:,2]) \n",
    "    plt.subplot(50,2,t+1)\n",
    "    plt.imshow(img_arr, vmin = 0, vmax = 1)\n",
    "\n",
    "\n"
   ]
  },
  {
   "cell_type": "code",
   "execution_count": null,
   "metadata": {},
   "outputs": [],
   "source": [
    "# Plot para t = 6\n",
    "t = 6\n",
    "img_arr = np.zeros((8*num_pix,20*num_pix+1,3))   \n",
    "for cell_ID in range(40,60):\n",
    "    img_arr[:,:,0] = np.where(ws_small == cell_ID-39, As[t*100, cell_ID], img_arr[:,:,0]) \n",
    "    img_arr[:,:,1] = np.where(ws_small == cell_ID-39, Rs[t*100, cell_ID], img_arr[:,:,1]) \n",
    "    img_arr[:,:,2] = np.where(ws_small == cell_ID-39, As[t*100, cell_ID], img_arr[:,:,2])   \n",
    "\n",
    "    \n",
    "plt.figure(1, figsize=(10,10))\n",
    "plt.imshow(img_arr)\n",
    "plt.axis('off')\n",
    "plt.savefig('output/02.1.Lat_act_int.pdf', bbox_inches='tight', pad_inches = 0, dpi = 100)\n"
   ]
  },
  {
   "cell_type": "code",
   "execution_count": null,
   "metadata": {},
   "outputs": [],
   "source": [
    "img_arr = np.zeros((8*num_pix,20*num_pix+1,3))   \n",
    "for cell_ID in range(40,60):\n",
    "    img_arr[:,:,0] = np.where(ws_small == cell_ID-39, As[t*100, cell_ID], img_arr[:,:,0]) \n",
    "    #img_arr[:,:,1] = np.where(ws_small == cell_ID-39, Rs[t*100, cell_ID], img_arr[:,:,1]) \n",
    "    img_arr[:,:,2] = np.where(ws_small == cell_ID-39, As[t*100, cell_ID], img_arr[:,:,2])   \n",
    "\n",
    "    \n",
    "plt.figure(1, figsize=(10,10))\n",
    "plt.imshow(img_arr)\n",
    "plt.axis('off')\n",
    "plt.savefig('output/02.2.Lat_act_int.pdf', bbox_inches='tight', pad_inches = 0, dpi = 100)\n"
   ]
  },
  {
   "cell_type": "code",
   "execution_count": null,
   "metadata": {},
   "outputs": [],
   "source": [
    "img_arr = np.zeros((8*num_pix,20*num_pix+1,3))   \n",
    "for cell_ID in range(40,60):\n",
    "    #img_arr[:,:,0] = np.where(ws_small == cell_ID-39, As[t*100, cell_ID], img_arr[:,:,0]) \n",
    "    img_arr[:,:,1] = np.where(ws_small == cell_ID-39, Rs[t*100, cell_ID], img_arr[:,:,1]) \n",
    "    #img_arr[:,:,2] = np.where(ws_small == cell_ID-39, As[t*100, cell_ID], img_arr[:,:,2])   \n",
    "\n",
    "    \n",
    "plt.figure(1, figsize=(10,10))\n",
    "plt.imshow(img_arr)\n",
    "plt.axis('off')\n",
    "plt.savefig('output/02.3.Lat_act_int.pdf', bbox_inches='tight', pad_inches = 0, dpi = 100)\n"
   ]
  },
  {
   "cell_type": "code",
   "execution_count": null,
   "metadata": {},
   "outputs": [],
   "source": [
    "#Display one point per cell\n",
    "plt.figure(1, figsize=(8,3.2))\n",
    "plt.plot(np.arange(0,20), As[t*100, 40:60], color = '#FF00FF')\n",
    "plt.plot(np.arange(0,20), Rs[t*100, 40:60], color = '#00AA00')\n",
    "plt.ylim(top=1)\n",
    "plt.ylim(bottom=0)\n",
    "plt.xticks(np.arange(20), np.arange(20)+1)\n",
    "plt.xlabel('Cell')\n",
    "plt.ylabel('Expression levels') \n",
    "plt.savefig('output/02.4a.Lat_act_int.pdf', bbox_inches='tight', pad_inches = 0, dpi = 100)"
   ]
  },
  {
   "cell_type": "code",
   "execution_count": null,
   "metadata": {},
   "outputs": [],
   "source": [
    "#Display taking into account cell shapes\n",
    "plt.figure(1, figsize=(8,3.2))\n",
    "plt.plot(np.arange(0,100), np.repeat(As[t*100, 40:60], 5), color = '#FF00FF')\n",
    "plt.plot(np.arange(0,100), np.repeat(Rs[t*100, 40:60], 5), color = '#00AA00')\n",
    "plt.ylim(top=1)\n",
    "plt.ylim(bottom=0)\n",
    "plt.xticks((np.arange(20)+0.5)*5, np.arange(20)+1)\n",
    "plt.xlabel('Cell')\n",
    "plt.ylabel('Expression levels') \n",
    "plt.rcParams.update({'font.size' : 16, 'font.sans-serif' : 'Arial'})\n",
    "plt.savefig('output/02.4b.Lat_act_int.pdf', bbox_inches='tight', pad_inches = 0, dpi = 100)"
   ]
  },
  {
   "cell_type": "code",
   "execution_count": null,
   "metadata": {},
   "outputs": [],
   "source": [
    "t = 20\n",
    "img_arr = np.zeros((8*num_pix,20*num_pix+1,3))   \n",
    "for cell_ID in range(40,60):\n",
    "    img_arr[:,:,0] = np.where(ws_small == cell_ID-39, As[t*100, cell_ID], img_arr[:,:,0]) \n",
    "    img_arr[:,:,1] = np.where(ws_small == cell_ID-39, Rs[t*100, cell_ID], img_arr[:,:,1]) \n",
    "    img_arr[:,:,2] = np.where(ws_small == cell_ID-39, As[t*100, cell_ID], img_arr[:,:,2])   \n",
    "\n",
    "    \n",
    "plt.figure(1, figsize=(10,10))\n",
    "plt.imshow(img_arr)\n",
    "plt.axis('off')\n",
    "plt.rcParams.update({'font.size' : 16, 'font.sans-serif' : 'Arial'})\n",
    "plt.savefig('output/02.5.Lat_act_final.pdf', bbox_inches='tight', pad_inches = 0, dpi = 100)\n"
   ]
  },
  {
   "cell_type": "code",
   "execution_count": null,
   "metadata": {},
   "outputs": [],
   "source": [
    "t = 20\n",
    "img_arr = np.zeros((8*num_pix,20*num_pix+1,3))   \n",
    "for cell_ID in range(40,60):\n",
    "    img_arr[:,:,0] = np.where(ws_small == cell_ID-39, As[t*100, cell_ID], img_arr[:,:,0]) \n",
    "    #img_arr[:,:,1] = np.where(ws_small == cell_ID-39, Rs[t*100, cell_ID], img_arr[:,:,1]) \n",
    "    img_arr[:,:,2] = np.where(ws_small == cell_ID-39, As[t*100, cell_ID], img_arr[:,:,2])   \n",
    "\n",
    "    \n",
    "plt.figure(1, figsize=(10,10))\n",
    "plt.imshow(img_arr)\n",
    "plt.axis('off')\n",
    "plt.savefig('output/02.6.Lat_act_final.pdf', bbox_inches='tight', pad_inches = 0, dpi = 100)\n"
   ]
  },
  {
   "cell_type": "code",
   "execution_count": null,
   "metadata": {},
   "outputs": [],
   "source": [
    "t = 20\n",
    "img_arr = np.zeros((8*num_pix,20*num_pix+1,3))   \n",
    "for cell_ID in range(40,60):\n",
    "    #img_arr[:,:,0] = np.where(ws_small == cell_ID-39, As[t*100, cell_ID], img_arr[:,:,0]) \n",
    "    img_arr[:,:,1] = np.where(ws_small == cell_ID-39, Rs[t*100, cell_ID], img_arr[:,:,1]) \n",
    "    #img_arr[:,:,2] = np.where(ws_small == cell_ID-39, As[t*100, cell_ID], img_arr[:,:,2])   \n",
    "\n",
    "    \n",
    "plt.figure(1, figsize=(10,10))\n",
    "plt.imshow(img_arr)\n",
    "plt.axis('off')\n",
    "plt.savefig('output/02.7.Lat_act_final.pdf', bbox_inches='tight', pad_inches = 0, dpi = 100)\n"
   ]
  },
  {
   "cell_type": "code",
   "execution_count": null,
   "metadata": {},
   "outputs": [],
   "source": [
    "#Display one point per cell\n",
    "plt.figure(1, figsize=(8,3.2))\n",
    "plt.plot(np.arange(0,20), As[t*100, 40:60], color = '#FF00FF')\n",
    "plt.plot(np.arange(0,20), Rs[t*100, 40:60], color = '#00AA00')\n",
    "plt.ylim(top=1)\n",
    "plt.ylim(bottom=0)\n",
    "plt.xticks(np.arange(20), np.arange(20)+1)\n",
    "plt.xlabel('Cell')\n",
    "plt.ylabel('Expression levels') \n",
    "plt.savefig('output/02.8a.Lat_act_final.pdf', bbox_inches='tight', pad_inches = 0, dpi = 100)"
   ]
  },
  {
   "cell_type": "code",
   "execution_count": null,
   "metadata": {},
   "outputs": [],
   "source": [
    "#Display taking into account cell shapes\n",
    "plt.figure(1, figsize=(8,3.2))\n",
    "plt.plot(np.arange(0,100), np.repeat(As[t*100, 40:60], 5), color = '#FF00FF')\n",
    "plt.plot(np.arange(0,100), np.repeat(Rs[t*100, 40:60], 5), color = '#00AA00')\n",
    "plt.ylim(top=1)\n",
    "plt.ylim(bottom=0)\n",
    "plt.xticks((np.arange(20)+0.5)*5, np.arange(20)+1)\n",
    "plt.xlabel('Cell')\n",
    "plt.ylabel('Expression levels') \n",
    "plt.rcParams.update({'font.size' : 16, 'font.sans-serif' : 'Arial'})\n",
    "plt.savefig('output/02.8b.Lat_inh_int.pdf', bbox_inches='tight', pad_inches = 0, dpi = 100)"
   ]
  },
  {
   "cell_type": "code",
   "execution_count": null,
   "metadata": {},
   "outputs": [],
   "source": [
    "A_values_for_df = np.array(())\n",
    "R_values_for_df = np.array(())\n",
    "cell_num = np.array((), dtype = 'int32')\n",
    "time = np.array(())\n",
    "\n",
    "for i in range(40,60):\n",
    "    A_values_for_df = np.append(A_values_for_df,As[:,i])\n",
    "    R_values_for_df = np.append(R_values_for_df,Rs[:,i])\n",
    "    cell_num = np.append(cell_num, np.array([i]*As.shape[0])-40)\n",
    "    time = np.append(time, np.arange(As.shape[0]))\n",
    "    \n",
    "df_to_plot = DataFrame({'Ligand': A_values_for_df, 'Repressor': R_values_for_df, 'Cell': cell_num, 'Time': time})  \n"
   ]
  },
  {
   "cell_type": "code",
   "execution_count": null,
   "metadata": {},
   "outputs": [],
   "source": [
    "sns.lineplot(x=\"Time\", y=\"Ligand\", hue=\"Cell\", data=df_to_plot, legend = False)\n",
    "plt.rcParams.update({'font.size' : 16, 'font.sans-serif' : 'Arial'})\n",
    "plt.xlabel('Time (a. u.)')\n",
    "plt.ylabel('Ligand concentration (a. u.)')\n",
    "plt.tight_layout()\n",
    "plt.savefig('output/01.9.Lat_act_ligand.pdf', dpi = 100) "
   ]
  },
  {
   "cell_type": "code",
   "execution_count": null,
   "metadata": {},
   "outputs": [],
   "source": [
    "sns.lineplot(x=\"Time\", y=\"Repressor\", hue=\"Cell\", data=df_to_plot, legend = False)\n",
    "plt.rcParams.update({'font.size' : 16, 'font.sans-serif' : 'Arial'})\n",
    "plt.xlabel('Time (a. u.)')\n",
    "plt.ylabel('Repressor concentration (a. u.)')\n",
    "plt.tight_layout()\n",
    "plt.savefig('output/01.10.Lat_act_repressor.pdf') "
   ]
  },
  {
   "cell_type": "markdown",
   "metadata": {},
   "source": [
    "## Lateral inhibition model based on Sprinzak et al"
   ]
  },
  {
   "cell_type": "code",
   "execution_count": null,
   "metadata": {},
   "outputs": [],
   "source": [
    "np.random.seed(2)\n",
    "\n",
    "t_max = 30\n",
    "\n",
    "N = 0.1*(np.random.uniform(size = contacts.shape[0]))\n",
    "L = 0.1*(np.random.uniform(size = contacts.shape[0]))\n",
    "R = 0.1*(np.random.uniform(size = contacts.shape[0]))\n",
    "\n",
    "n = 1\n",
    "m = 1\n",
    "kc = 10\n",
    "kt = 1\n",
    "gamma = 1\n",
    "gamma_R = 1\n",
    "k_RS = 1\n",
    "beta_N = 2\n",
    "beta_L = 10\n",
    "beta_R = 10\n",
    "\n",
    "Ns = np.copy(N) # Notch receptor\n",
    "Ls = np.copy(L) # Ligand\n",
    "Rs = np.copy(R) # Repressor\n",
    "\n",
    "stepsize = 0.01\n",
    "\n",
    "plt.figure(1, figsize=(15,30))\n",
    "for t in range(0,t_max):\n",
    "      \n",
    "    for i in range(0,500): #This is the number of iterations between each shown image.\n",
    "        Nn = N.dot(contacts)\n",
    "        Ln = L.dot(contacts)\n",
    "        \n",
    "        dNdt = beta_N - gamma*N - kt*N*Ln - kc*N*L\n",
    "        dLdt = beta_L*(1/(1+R**m)) - gamma*L - kt*Nn*L - kc*N*L\n",
    "        dRdt = beta_R*((N*Ln)**n)/(k_RS + (N*Ln)**n) - gamma_R*R\n",
    "        \n",
    "        N += stepsize*dNdt\n",
    "        L += stepsize*dLdt\n",
    "        R += stepsize*dRdt\n",
    "        \n",
    "        if i % 5 == 0:\n",
    "            Ns = np.vstack((Ns, N))\n",
    "            Ls = np.vstack((Ls, L))\n",
    "            Rs = np.vstack((Rs, R))\n",
    "    \n",
    "    img_arr = np.zeros((8,contacts.shape[0],3))\n",
    "    \n",
    "    for cell_ID in range(contacts.shape[0]):\n",
    "        img_arr[:,:,0] = np.where(ws == cell_ID, L[cell_ID], img_arr[:,:,0]) \n",
    "        img_arr[:,:,1] = np.where(ws == cell_ID, R[cell_ID], img_arr[:,:,1]) \n",
    "        img_arr[:,:,2] = np.where(ws == cell_ID, L[cell_ID], img_arr[:,:,2])\n",
    "    plt.subplot(50,2,t+1)\n",
    "    img_arr[:,:,0] = img_arr[:,:,0]/np.max(img_arr[:,:,0])\n",
    "    img_arr[:,:,1] = img_arr[:,:,1]/np.max(img_arr[:,:,1])\n",
    "    img_arr[:,:,2] = img_arr[:,:,2]/np.max(img_arr[:,:,2])\n",
    "    plt.imshow(img_arr, vmin = 0, vmax = 1)\n",
    "  \n"
   ]
  },
  {
   "cell_type": "code",
   "execution_count": null,
   "metadata": {},
   "outputs": [],
   "source": [
    "# Plot for t = 30\n",
    "t = 30\n",
    "img_arr = np.zeros((8*num_pix,20*num_pix+1,3))   \n",
    "for cell_ID in range(40,60):\n",
    "    img_arr[:,:,0] = np.where(ws_small == cell_ID-39, Ls[t*100, cell_ID], img_arr[:,:,0]) \n",
    "    img_arr[:,:,1] = np.where(ws_small == cell_ID-39, Rs[t*100, cell_ID], img_arr[:,:,1]) \n",
    "    img_arr[:,:,2] = np.where(ws_small == cell_ID-39, Ls[t*100, cell_ID], img_arr[:,:,2])   \n",
    "\n",
    "img_arr[:,:,0] = img_arr[:,:,0]/np.max(img_arr[:,:,0])\n",
    "img_arr[:,:,1] = img_arr[:,:,1]/np.max(img_arr[:,:,1])\n",
    "img_arr[:,:,2] = img_arr[:,:,2]/np.max(img_arr[:,:,2])\n",
    "    \n",
    "plt.figure(1, figsize=(10,10))\n",
    "plt.imshow(img_arr)\n",
    "plt.axis('off')\n",
    "plt.savefig('output/03.1.Sprinzak_final.pdf', bbox_inches='tight', pad_inches = 0, dpi = 100)\n"
   ]
  },
  {
   "cell_type": "code",
   "execution_count": null,
   "metadata": {},
   "outputs": [],
   "source": [
    "#Display one point per cell\n",
    "plt.figure(1, figsize=(8,3.2))\n",
    "plt.plot(np.arange(0,20), Ls[t*100, 40:60], color = '#FF00FF')\n",
    "plt.plot(np.arange(0,20), Rs[t*100, 40:60], color = '#00AA00')\n",
    "plt.plot(np.arange(0,20), Ns[t*100, 40:60], color = '#000000')\n",
    "#plt.ylim(top=1)\n",
    "#plt.ylim(bottom=0)\n",
    "plt.xticks(np.arange(20), np.arange(20)+1)\n",
    "plt.xlabel('Cell')\n",
    "plt.ylabel('Expression levels') \n",
    "plt.savefig('output/03.2.Sprinzak_final.pdf', bbox_inches='tight', pad_inches = 0, dpi = 100)"
   ]
  },
  {
   "cell_type": "code",
   "execution_count": null,
   "metadata": {},
   "outputs": [],
   "source": [
    "#Display taking into account cell shapes\n",
    "plt.figure(1, figsize=(8,3.2))\n",
    "plt.plot(np.arange(0,100), np.repeat(Ls[t*100, 40:60], 5), color = '#FF00FF')\n",
    "plt.plot(np.arange(0,100), np.repeat(Rs[t*100, 40:60], 5), color = '#00AA00')\n",
    "plt.ylim(bottom=0)\n",
    "plt.xticks((np.arange(20)+0.5)*5, np.arange(20)+1)\n",
    "#font = {'fontname': 'Arial'}\n",
    "#matplotlib.rc('font', **font)\n",
    "plt.xlabel('Cell')\n",
    "plt.ylabel('Expression levels')\n",
    "plt.rcParams.update({'font.size' : 16, 'font.sans-serif' : 'Arial'})\n",
    "plt.savefig('output/03_2b.Sprinzak.pdf', bbox_inches='tight', pad_inches = 0, dpi = 100)"
   ]
  },
  {
   "cell_type": "code",
   "execution_count": null,
   "metadata": {},
   "outputs": [],
   "source": [
    "N_values_for_df = np.array(())\n",
    "L_values_for_df = np.array(())\n",
    "R_values_for_df = np.array(())\n",
    "cell_num = np.array((), dtype = 'int32')\n",
    "time = np.array(())\n",
    "\n",
    "for i in range(40,60):\n",
    "    N_values_for_df = np.append(N_values_for_df,Ns[:,i])\n",
    "    L_values_for_df = np.append(L_values_for_df,Ls[:,i])\n",
    "    R_values_for_df = np.append(R_values_for_df,Rs[:,i])\n",
    "    cell_num = np.append(cell_num, np.array([i]*Ls.shape[0])-40)\n",
    "    time = np.append(time, np.arange(Ls.shape[0]))\n",
    "    \n",
    "df_to_plot = DataFrame({'Ligand': L_values_for_df, 'Repressor': R_values_for_df, 'Notch Receptor': N_values_for_df, \n",
    "                        'Cell': cell_num, 'Time': time})  \n"
   ]
  },
  {
   "cell_type": "code",
   "execution_count": null,
   "metadata": {},
   "outputs": [],
   "source": [
    "sns.lineplot(x=\"Time\", y=\"Ligand\", hue=\"Cell\", data=df_to_plot, legend = False)\n",
    "plt.tight_layout()\n",
    "plt.savefig('output/03.3.Sprinzak_ligand.pdf', dpi = 100) "
   ]
  },
  {
   "cell_type": "code",
   "execution_count": null,
   "metadata": {
    "scrolled": true
   },
   "outputs": [],
   "source": [
    "sns.lineplot(x=\"Time\", y=\"Repressor\", hue=\"Cell\", data=df_to_plot, legend = False)\n",
    "plt.tight_layout()\n",
    "plt.savefig('output/03.4.Sprinzak_repressor.pdf', dpi = 100) "
   ]
  },
  {
   "cell_type": "code",
   "execution_count": null,
   "metadata": {},
   "outputs": [],
   "source": [
    "sns.lineplot(x=\"Time\", y=\"Notch Receptor\", hue=\"Cell\", data=df_to_plot, legend = False)\n",
    "plt.tight_layout()\n",
    "plt.savefig('output/03.5.Sprinzak_notch_receptor.pdf', dpi = 100) "
   ]
  }
 ],
 "metadata": {
  "kernelspec": {
   "display_name": "Python 3",
   "language": "python",
   "name": "python3"
  },
  "language_info": {
   "codemirror_mode": {
    "name": "ipython",
    "version": 3
   },
   "file_extension": ".py",
   "mimetype": "text/x-python",
   "name": "python",
   "nbconvert_exporter": "python",
   "pygments_lexer": "ipython3",
   "version": "3.8.8"
  }
 },
 "nbformat": 4,
 "nbformat_minor": 2
}
